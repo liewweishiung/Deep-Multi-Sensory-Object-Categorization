{
  "nbformat": 4,
  "nbformat_minor": 0,
  "metadata": {
    "anaconda-cloud": {},
    "kernelspec": {
      "display_name": "Python 3",
      "language": "python",
      "name": "python3"
    },
    "language_info": {
      "codemirror_mode": {
        "name": "ipython",
        "version": 3
      },
      "file_extension": ".py",
      "mimetype": "text/x-python",
      "name": "python",
      "nbconvert_exporter": "python",
      "pygments_lexer": "ipython3",
      "version": "3.7.9"
    },
    "colab": {
      "name": "VideoNetworkTraining.ipynb",
      "provenance": []
    }
  },
  "cells": [
    {
      "cell_type": "markdown",
      "metadata": {
        "id": "IjVTYPKHFlGk"
      },
      "source": [
        "# Video Classification Training\n",
        "\n",
        "This notebook creates the Video Network Architecture and trains it for grasp testset1. After training the network weights will be stored in the folder `../dataset/grasp_120x90_testset1_logs`"
      ]
    },
    {
      "cell_type": "markdown",
      "metadata": {
        "id": "fKO_2ofbFlGr"
      },
      "source": [
        "## Dependencies\n",
        "\n",
        "`Python 3.5.4` is used for development and following packages are required to run the code provided in the notebook:\n",
        "\n",
        "`pip install googledrivedownloader`<br>\n",
        "`pip install matplotlib`<br>\n",
        "`pip install tensorflow-gpu`<br>\n",
        "`pip install keras`<br>\n",
        "`pip install numpy`"
      ]
    },
    {
      "cell_type": "code",
      "metadata": {
        "colab": {
          "base_uri": "https://localhost:8080/"
        },
        "id": "jRqKIZiaHzno",
        "outputId": "6c303910-109b-4715-c4fd-70efc4371932"
      },
      "source": [
        "!pip install tensorflow==1.15.0\n",
        "!pip install keras==2.2.4"
      ],
      "execution_count": 1,
      "outputs": [
        {
          "output_type": "stream",
          "name": "stdout",
          "text": [
            "Requirement already satisfied: tensorflow==1.15.0 in /usr/local/lib/python3.7/dist-packages (1.15.0)\n",
            "Requirement already satisfied: opt-einsum>=2.3.2 in /usr/local/lib/python3.7/dist-packages (from tensorflow==1.15.0) (3.3.0)\n",
            "Requirement already satisfied: wrapt>=1.11.1 in /usr/local/lib/python3.7/dist-packages (from tensorflow==1.15.0) (1.13.3)\n",
            "Requirement already satisfied: wheel>=0.26 in /usr/local/lib/python3.7/dist-packages (from tensorflow==1.15.0) (0.37.0)\n",
            "Requirement already satisfied: astor>=0.6.0 in /usr/local/lib/python3.7/dist-packages (from tensorflow==1.15.0) (0.8.1)\n",
            "Requirement already satisfied: google-pasta>=0.1.6 in /usr/local/lib/python3.7/dist-packages (from tensorflow==1.15.0) (0.2.0)\n",
            "Requirement already satisfied: termcolor>=1.1.0 in /usr/local/lib/python3.7/dist-packages (from tensorflow==1.15.0) (1.1.0)\n",
            "Requirement already satisfied: grpcio>=1.8.6 in /usr/local/lib/python3.7/dist-packages (from tensorflow==1.15.0) (1.42.0)\n",
            "Requirement already satisfied: protobuf>=3.6.1 in /usr/local/lib/python3.7/dist-packages (from tensorflow==1.15.0) (3.17.3)\n",
            "Requirement already satisfied: tensorboard<1.16.0,>=1.15.0 in /usr/local/lib/python3.7/dist-packages (from tensorflow==1.15.0) (1.15.0)\n",
            "Requirement already satisfied: absl-py>=0.7.0 in /usr/local/lib/python3.7/dist-packages (from tensorflow==1.15.0) (0.12.0)\n",
            "Requirement already satisfied: keras-preprocessing>=1.0.5 in /usr/local/lib/python3.7/dist-packages (from tensorflow==1.15.0) (1.1.2)\n",
            "Requirement already satisfied: six>=1.10.0 in /usr/local/lib/python3.7/dist-packages (from tensorflow==1.15.0) (1.15.0)\n",
            "Requirement already satisfied: gast==0.2.2 in /usr/local/lib/python3.7/dist-packages (from tensorflow==1.15.0) (0.2.2)\n",
            "Requirement already satisfied: numpy<2.0,>=1.16.0 in /usr/local/lib/python3.7/dist-packages (from tensorflow==1.15.0) (1.19.5)\n",
            "Requirement already satisfied: tensorflow-estimator==1.15.1 in /usr/local/lib/python3.7/dist-packages (from tensorflow==1.15.0) (1.15.1)\n",
            "Requirement already satisfied: keras-applications>=1.0.8 in /usr/local/lib/python3.7/dist-packages (from tensorflow==1.15.0) (1.0.8)\n",
            "Requirement already satisfied: h5py in /usr/local/lib/python3.7/dist-packages (from keras-applications>=1.0.8->tensorflow==1.15.0) (3.1.0)\n",
            "Requirement already satisfied: markdown>=2.6.8 in /usr/local/lib/python3.7/dist-packages (from tensorboard<1.16.0,>=1.15.0->tensorflow==1.15.0) (3.3.6)\n",
            "Requirement already satisfied: setuptools>=41.0.0 in /usr/local/lib/python3.7/dist-packages (from tensorboard<1.16.0,>=1.15.0->tensorflow==1.15.0) (57.4.0)\n",
            "Requirement already satisfied: werkzeug>=0.11.15 in /usr/local/lib/python3.7/dist-packages (from tensorboard<1.16.0,>=1.15.0->tensorflow==1.15.0) (1.0.1)\n",
            "Requirement already satisfied: importlib-metadata>=4.4 in /usr/local/lib/python3.7/dist-packages (from markdown>=2.6.8->tensorboard<1.16.0,>=1.15.0->tensorflow==1.15.0) (4.8.2)\n",
            "Requirement already satisfied: typing-extensions>=3.6.4 in /usr/local/lib/python3.7/dist-packages (from importlib-metadata>=4.4->markdown>=2.6.8->tensorboard<1.16.0,>=1.15.0->tensorflow==1.15.0) (3.10.0.2)\n",
            "Requirement already satisfied: zipp>=0.5 in /usr/local/lib/python3.7/dist-packages (from importlib-metadata>=4.4->markdown>=2.6.8->tensorboard<1.16.0,>=1.15.0->tensorflow==1.15.0) (3.6.0)\n",
            "Requirement already satisfied: cached-property in /usr/local/lib/python3.7/dist-packages (from h5py->keras-applications>=1.0.8->tensorflow==1.15.0) (1.5.2)\n",
            "Requirement already satisfied: keras==2.2.4 in /usr/local/lib/python3.7/dist-packages (2.2.4)\n",
            "Requirement already satisfied: scipy>=0.14 in /usr/local/lib/python3.7/dist-packages (from keras==2.2.4) (1.4.1)\n",
            "Requirement already satisfied: keras-preprocessing>=1.0.5 in /usr/local/lib/python3.7/dist-packages (from keras==2.2.4) (1.1.2)\n",
            "Requirement already satisfied: h5py in /usr/local/lib/python3.7/dist-packages (from keras==2.2.4) (3.1.0)\n",
            "Requirement already satisfied: numpy>=1.9.1 in /usr/local/lib/python3.7/dist-packages (from keras==2.2.4) (1.19.5)\n",
            "Requirement already satisfied: six>=1.9.0 in /usr/local/lib/python3.7/dist-packages (from keras==2.2.4) (1.15.0)\n",
            "Requirement already satisfied: pyyaml in /usr/local/lib/python3.7/dist-packages (from keras==2.2.4) (3.13)\n",
            "Requirement already satisfied: keras-applications>=1.0.6 in /usr/local/lib/python3.7/dist-packages (from keras==2.2.4) (1.0.8)\n",
            "Requirement already satisfied: cached-property in /usr/local/lib/python3.7/dist-packages (from h5py->keras==2.2.4) (1.5.2)\n"
          ]
        }
      ]
    },
    {
      "cell_type": "code",
      "metadata": {
        "id": "kjdRdulyFlGs"
      },
      "source": [
        "import pickle, os, csv, time, shutil\n",
        "import tensorflow as tf\n",
        "import numpy as np\n",
        "from matplotlib import pyplot as plt\n",
        "from google_drive_downloader import GoogleDriveDownloader as gdd"
      ],
      "execution_count": 2,
      "outputs": []
    },
    {
      "cell_type": "code",
      "metadata": {
        "colab": {
          "base_uri": "https://localhost:8080/"
        },
        "id": "X7-gP9P6EJmf",
        "outputId": "983a3994-34be-40e4-982f-dd8ce4806235"
      },
      "source": [
        "from google.colab import drive\n",
        "drive.mount('/content/drive')"
      ],
      "execution_count": 3,
      "outputs": [
        {
          "output_type": "stream",
          "name": "stdout",
          "text": [
            "Drive already mounted at /content/drive; to attempt to forcibly remount, call drive.mount(\"/content/drive\", force_remount=True).\n"
          ]
        }
      ]
    },
    {
      "cell_type": "code",
      "metadata": {
        "id": "-TVuwBo-GcrB"
      },
      "source": [
        "path=\"/content/drive/MyDrive/Deep-Multi-Sensory-Object-Categorization\""
      ],
      "execution_count": 4,
      "outputs": []
    },
    {
      "cell_type": "code",
      "metadata": {
        "id": "x00ESCG5FlGv"
      },
      "source": [
        "def print_image(image, title):\n",
        "    \"\"\"Print the image\n",
        "\n",
        "    :param image: image pixels in list\n",
        "    :param title: title as string to be printed on top of the image\n",
        "    \"\"\"\n",
        "    plt.imshow(image)\n",
        "    plt.title(title)\n",
        "    plt.colorbar()\n",
        "    plt.show()\n",
        "\n",
        "def time_taken(start, end):\n",
        "    \"\"\"Human readable time between `start` and `end`\n",
        "\n",
        "    :param start: time.time()\n",
        "    :param end: time.time()\n",
        "    :returns: day:hour:minute:second\n",
        "    \"\"\"\n",
        "    time = end-start\n",
        "    day = time // (24 * 3600)\n",
        "    time = time % (24 * 3600)\n",
        "    hour = time // 3600\n",
        "    time %= 3600\n",
        "    minutes = time // 60\n",
        "    time %= 60\n",
        "    seconds = time\n",
        "    day_hour_min_sec = str('%02d' % int(day))+\":\"+str('%02d' % int(hour))+\":\"+str('%02d' % int(minutes))+\":\"+str('%02d' % int(seconds))\n",
        "    \n",
        "    return day_hour_min_sec"
      ],
      "execution_count": 5,
      "outputs": []
    },
    {
      "cell_type": "code",
      "metadata": {
        "id": "Kxsy1UV4FlGx"
      },
      "source": [
        "\"\"\"\n",
        "Downloading `category_object_labels.bin`.\n",
        "This contains two dictionaries that stores category labels and object labels\n",
        "\"\"\"\n",
        "\n",
        "# gdd.download_file_from_google_drive(file_id='15xPAbso4-uLk8PcRi9cb70r1r3FaU6ux', dest_path='./dataset/category_object_labels.bin', unzip=False)\n",
        "bin_file = open(path+\"/dataset/category_object_labels.bin\", \"rb\")\n",
        "category_labels = pickle.load(bin_file)\n",
        "object_labels = pickle.load(bin_file)\n",
        "bin_file.close()"
      ],
      "execution_count": 6,
      "outputs": []
    },
    {
      "cell_type": "markdown",
      "metadata": {
        "id": "zjN0g-72FlGx"
      },
      "source": [
        "## Video Dataset"
      ]
    },
    {
      "cell_type": "code",
      "metadata": {
        "id": "V90jCN2AFlGy"
      },
      "source": [
        "\"\"\"\n",
        "Downloading testset1 for video of grasp interaction and reading it.\n",
        "\"\"\"\n",
        "\n",
        "db_file_name = \"grasp_120x90_testset1.bin\"\n",
        "gdd.download_file_from_google_drive(file_id='1o8FvoQskCS9rE8Bh4VkUUNMtJgKmDe67',\n",
        "                                    dest_path=path+'/dataset/'+db_file_name,\n",
        "                                    unzip=False)\n",
        "\n",
        "bin_file = open(path+\"/dataset/\"+db_file_name, \"rb\")\n",
        "\n",
        "video_frames_5d_train = pickle.load(bin_file)\n",
        "category_label_train = pickle.load(bin_file)\n",
        "object_label_train = pickle.load(bin_file)\n",
        "category_label_train_one_hot = pickle.load(bin_file)\n",
        "object_label_train_one_hot = pickle.load(bin_file)\n",
        "\n",
        "video_frames_5d_test = pickle.load(bin_file)\n",
        "category_label_test = pickle.load(bin_file)\n",
        "object_label_test = pickle.load(bin_file)\n",
        "category_label_test_one_hot = pickle.load(bin_file)\n",
        "object_label_test_one_hot = pickle.load(bin_file)\n",
        "\n",
        "bin_file.close()"
      ],
      "execution_count": 7,
      "outputs": []
    },
    {
      "cell_type": "code",
      "metadata": {
        "colab": {
          "base_uri": "https://localhost:8080/",
          "height": 317
        },
        "id": "RfSQ-4FbFlGz",
        "outputId": "05830f49-cb03-4710-d7c0-0474d6d5747d"
      },
      "source": [
        "\"\"\"\n",
        "Display a frame of the video dataset\n",
        "\"\"\"\n",
        "\n",
        "batch_no = 188\n",
        "frame_no = 10\n",
        "\n",
        "print(\"batch, frames, height, width, channel: \", video_frames_5d_train.shape)\n",
        "\n",
        "print_image(video_frames_5d_train[batch_no][frame_no], db_file_name)\n",
        "\n",
        "print(\"Category: \", list(category_labels.keys())[list(category_labels.values()).index(category_label_train[batch_no])])\n",
        "print(\"Object: \", list(object_labels.keys())[list(object_labels.values()).index(object_label_train[batch_no])])"
      ],
      "execution_count": 8,
      "outputs": [
        {
          "output_type": "stream",
          "name": "stdout",
          "text": [
            "batch, frames, height, width, channel:  (400, 20, 90, 120, 3)\n"
          ]
        },
        {
          "output_type": "display_data",
          "data": {
            "image/png": "[encoded data removed]",
            "text/plain": [
              "<Figure size 432x288 with 2 Axes>"
            ]
          },
          "metadata": {
            "needs_background": "light"
          }
        },
        {
          "output_type": "stream",
          "name": "stdout",
          "text": [
            "Category:  egg\n",
            "Object:  egg_rough_styrofoam\n"
          ]
        }
      ]
    },
    {
      "cell_type": "markdown",
      "metadata": {
        "id": "ledEcjjyFlG1"
      },
      "source": [
        "## Building the Video Network Architecture\n",
        "\n",
        "<img src=\"pics/Video_TT_GRU.png\" alt=\"drawing\" width=\"600px\"/>"
      ]
    },
    {
      "cell_type": "markdown",
      "metadata": {
        "id": "hi_KrgUfFlG3"
      },
      "source": [
        "## Video Network Hyper-parameters\n",
        "\n",
        "The input dimension at each time step is 120 x 90 x 3 = 32,400 which is factorized as 2 x 90 x 90 x 2, the hidden layer is chosen to be 6 x 6 x 6 x 6 = 1,296 and the Tensor-Train ranks are [1, 4, 4, 4, 1].\n",
        "A fully-connected layer for such a mapping would have required 41,990,400 (32,400 x 1,296) parameters to learn, however the input-to-hidden layer in TT-GRU required only 17,472 parameters.\n",
        "\n",
        "We applied 0.25 Dropout for both input-to-hidden and hidden-to-hidden mappings in plain GRU as well as its TT modifications; and 0.01 ridge regularization for the single-layered classifier.\n",
        "The model was deployed in Keras and TensorFlow was used as backend.\n",
        "We trained for 150 epochs and used the Adam, an gradient-based stochastic optimization algorithm with a learning rate of 1 x $10^{-4}$."
      ]
    },
    {
      "cell_type": "code",
      "metadata": {
        "id": "-YL2WxWaFlG3"
      },
      "source": [
        "# Network hyper-parameters\n",
        "batch = 5\n",
        "training_epochs = 150\n",
        "display_step = 1\n",
        "\n",
        "frames = time_step_size = video_frames_5d_train.shape[1]\n",
        "height = video_frames_5d_train.shape[2]\n",
        "width = video_frames_5d_train.shape[3]\n",
        "channel = video_frames_5d_train.shape[4]\n",
        "num_classes = category_label_train_one_hot.shape[1]\n",
        "\n",
        "model_path = path+\"/dataset/\"+db_file_name.split(\".\")[0]+\"_logs/model.ckpt\"\n",
        "logs_path = path+\"/dataset/\"+db_file_name.split(\".\")[0]+\"_logs/\"\n",
        "\n",
        "X = tf.placeholder('float', [None, None, height, width, channel], name='InputData')\n",
        "Y = tf.placeholder('float', [None, num_classes], name='LabelData')"
      ],
      "execution_count": 9,
      "outputs": []
    },
    {
      "cell_type": "code",
      "metadata": {
        "id": "BdfBPQsbE3m0"
      },
      "source": [
        "import sys\n",
        "sys.path.append(path)"
      ],
      "execution_count": 12,
      "outputs": []
    },
    {
      "cell_type": "code",
      "metadata": {
        "id": "Lfr148pXFlG5",
        "colab": {
          "base_uri": "https://localhost:8080/"
        },
        "outputId": "caab60e2-08f3-49eb-9b19-aa0496493f7b"
      },
      "source": [
        "from TTRNN import TT_GRU, TT_LSTM\n",
        "from keras.regularizers import l2\n",
        "from keras.layers import Dense\n",
        "\n",
        "tt_input_shape = [2, 90, 90, 2]\n",
        "tt_output_shape = [6, 6, 6, 6]\n",
        "tt_ranks = [1, 4, 4, 4, 1]\n",
        "alpha = 1e-2\n",
        "\n",
        "\"\"\"\n",
        "Functions used to define the Neural Network\n",
        "\"\"\"\n",
        "\n",
        "def model(data_placeholder):\n",
        "    with tf.name_scope(\"Model\"):\n",
        "        XR = tf.reshape(data_placeholder, [batch, frames, height*width*channel])\n",
        "        rnn_layer = TT_GRU(tt_input_shape=tt_input_shape, tt_output_shape=tt_output_shape,\n",
        "                               tt_ranks=tt_ranks,\n",
        "                                return_sequences=False,\n",
        "                                dropout=0.25, recurrent_dropout=0.25, activation='tanh')\n",
        "        h = rnn_layer(XR)\n",
        "        logits = Dense(output_dim=num_classes, activation='softmax', kernel_regularizer=l2(alpha))(h)\n",
        "    return logits\n",
        "\n",
        "def loss(prediction, label_placeholder):\n",
        "    with tf.name_scope('Loss'):\n",
        "        cost = tf.reduce_mean(tf.nn.softmax_cross_entropy_with_logits_v2(logits=prediction, labels=label_placeholder))\n",
        "        # Create a summary to monitor cost tensor\n",
        "        cost_scalar = tf.summary.scalar(\"loss\", cost)\n",
        "    return cost, cost_scalar\n",
        "\n",
        "def training(prediction, label_placeholder):\n",
        "    with tf.name_scope('Optimizer'):\n",
        "        optimizer = tf.train.AdamOptimizer(learning_rate=0.0001)\n",
        "        train_op = optimizer.minimize(cost)\n",
        "    return train_op\n",
        "\n",
        "def evaluate(prediction, Y):\n",
        "    with tf.name_scope('Accuracy'):\n",
        "        # Test model\n",
        "        correct_prediction = tf.equal(tf.argmax(prediction, 1), tf.argmax(Y, 1))\n",
        "        # Calculate accuracy\n",
        "        accuracy = tf.reduce_mean(tf.cast(correct_prediction, 'float'))\n",
        "        # Create a summary to monitor accuracy tensor\n",
        "        accuracy_scalar = tf.summary.scalar(\"accuracy\", accuracy)\n",
        "    return accuracy, accuracy_scalar"
      ],
      "execution_count": 13,
      "outputs": [
        {
          "output_type": "stream",
          "name": "stderr",
          "text": [
            "Using TensorFlow backend.\n"
          ]
        }
      ]
    },
    {
      "cell_type": "code",
      "metadata": {
        "id": "yqU6eo-0FlG5",
        "colab": {
          "base_uri": "https://localhost:8080/"
        },
        "outputId": "a64551ed-d852-4ac9-8049-f054ce0d1633"
      },
      "source": [
        "\"\"\"\n",
        "Creating the Neural Network\n",
        "\"\"\"\n",
        "\n",
        "model_dict = {}\n",
        "\n",
        "prediction = model(X)\n",
        "model_dict[\"Model\"] = prediction\n",
        "\n",
        "cost, cost_scalar = loss(prediction, Y)\n",
        "model_dict[\"Loss\"] = cost\n",
        "model_dict[\"Loss_scalar\"] = cost_scalar\n",
        "\n",
        "train_op = training(prediction, Y)\n",
        "model_dict[\"Optimizer\"] = train_op\n",
        "\n",
        "eval_op, accuracy_scalar = evaluate(prediction, Y)\n",
        "model_dict[\"Accuracy\"] = eval_op\n",
        "model_dict[\"Accuracy_scalar\"] = accuracy_scalar\n",
        "\n",
        "print(\"model_dict: \", model_dict)\n",
        "\n",
        "# Initializing the variables\n",
        "init = tf.global_variables_initializer()\n",
        "\n",
        "# 'Saver' op to save and restore all the variables\n",
        "saver = tf.train.Saver(max_to_keep=1)"
      ],
      "execution_count": 14,
      "outputs": [
        {
          "output_type": "stream",
          "name": "stdout",
          "text": [
            "WARNING:tensorflow:From /usr/local/lib/python3.7/dist-packages/keras/backend/tensorflow_backend.py:74: The name tf.get_default_graph is deprecated. Please use tf.compat.v1.get_default_graph instead.\n",
            "\n",
            "WARNING:tensorflow:From /usr/local/lib/python3.7/dist-packages/keras/backend/tensorflow_backend.py:4138: The name tf.random_uniform is deprecated. Please use tf.random.uniform instead.\n",
            "\n",
            "Compression factor = 17472 / 125971200 = 0.00013869836915104405\n",
            "Compressrion factor = 0.00013869836915104405\n",
            "WARNING:tensorflow:From /usr/local/lib/python3.7/dist-packages/keras/backend/tensorflow_backend.py:133: The name tf.placeholder_with_default is deprecated. Please use tf.compat.v1.placeholder_with_default instead.\n",
            "\n",
            "WARNING:tensorflow:From /usr/local/lib/python3.7/dist-packages/keras/backend/tensorflow_backend.py:3445: calling dropout (from tensorflow.python.ops.nn_ops) with keep_prob is deprecated and will be removed in a future version.\n",
            "Instructions for updating:\n",
            "Please use `rate` instead of `keep_prob`. Rate should be set to `rate = 1 - keep_prob`.\n",
            "WARNING:tensorflow:From /usr/local/lib/python3.7/dist-packages/tensorflow_core/python/ops/math_grad.py:1424: where (from tensorflow.python.ops.array_ops) is deprecated and will be removed in a future version.\n",
            "Instructions for updating:\n",
            "Use tf.where in 2.0, which has the same broadcast rule as np.where\n"
          ]
        },
        {
          "output_type": "stream",
          "name": "stderr",
          "text": [
            "/usr/local/lib/python3.7/dist-packages/ipykernel_launcher.py:22: UserWarning: Update your `Dense` call to the Keras 2 API: `Dense(activation=\"softmax\", kernel_regularizer=<keras.reg..., units=20)`\n"
          ]
        },
        {
          "output_type": "stream",
          "name": "stdout",
          "text": [
            "model_dict:  {'Model': <tf.Tensor 'Model/dense_1/Softmax:0' shape=(5, 20) dtype=float32>, 'Loss': <tf.Tensor 'Loss/Mean:0' shape=() dtype=float32>, 'Loss_scalar': <tf.Tensor 'Loss/loss:0' shape=() dtype=string>, 'Optimizer': <tf.Operation 'Optimizer/Adam' type=NoOp>, 'Accuracy': <tf.Tensor 'Accuracy/Mean:0' shape=() dtype=float32>, 'Accuracy_scalar': <tf.Tensor 'Accuracy/accuracy:0' shape=() dtype=string>}\n"
          ]
        }
      ]
    },
    {
      "cell_type": "code",
      "metadata": {
        "id": "2eil7M9jFlG6"
      },
      "source": [
        "if os.path.exists(logs_path):\n",
        "    shutil.rmtree(logs_path)\n",
        "    os.makedirs(logs_path)\n",
        "else:\n",
        "    os.makedirs(logs_path)"
      ],
      "execution_count": 15,
      "outputs": []
    },
    {
      "cell_type": "code",
      "metadata": {
        "id": "I8U2AMD0FlG6"
      },
      "source": [
        "\"\"\"\n",
        "Writing 'Time', 'Epoch', 'Cost', 'Accuracy' in CSV file\n",
        "\"\"\"\n",
        "\n",
        "epoch_cost_accuracy = []\n",
        "epoch_cost_accuracy.append(\"Time\")\n",
        "epoch_cost_accuracy.append(\"Epoch\")\n",
        "epoch_cost_accuracy.append(\"Cost\")\n",
        "epoch_cost_accuracy.append(\"Accuracy\")\n",
        "\n",
        "with open(logs_path+db_file_name.split(\".\")[0]+\"_data.csv\",'w') as f:\n",
        "    writer = csv.writer(f, lineterminator=\"\\n\")\n",
        "    writer.writerow(epoch_cost_accuracy)"
      ],
      "execution_count": 16,
      "outputs": []
    },
    {
      "cell_type": "markdown",
      "metadata": {
        "id": "0ko_44v6FlG7"
      },
      "source": [
        "## Training"
      ]
    },
    {
      "cell_type": "code",
      "metadata": {
        "id": "-YOdFM-hFlG8",
        "colab": {
          "base_uri": "https://localhost:8080/"
        },
        "outputId": "a1492de7-e9cb-45c7-9179-7b51eabcab9e"
      },
      "source": [
        "# Start Training\n",
        "\n",
        "start_time = time.time()\n",
        "\n",
        "with tf.Session() as sess:\n",
        "    # Initialize variables\n",
        "    sess.run(init)\n",
        "    \n",
        "    # op to write logs to Tensorboard\n",
        "    summary_writer = tf.summary.FileWriter(logs_path, graph=tf.get_default_graph())\n",
        "    \n",
        "    # Training cycle\n",
        "    for epoch in range(training_epochs):\n",
        "        avg_cost_list = 0.0\n",
        "        total_batch = int(len(video_frames_5d_train)/batch)\n",
        "        \n",
        "        # Shuffle data\n",
        "        shuffle_indices = np.arange(len(video_frames_5d_train))\n",
        "        np.random.shuffle(shuffle_indices)\n",
        "        \n",
        "        i = 0\n",
        "        # Loop over all batches\n",
        "        for start, end in zip(range(0, len(video_frames_5d_train), batch), range(batch, len(video_frames_5d_train)+1, batch)):\n",
        "            input_data, label_data = video_frames_5d_train[shuffle_indices][start:end], category_label_train_one_hot[shuffle_indices][start:end]\n",
        "            _, new_cost, cost_scalar = sess.run([model_dict[\"Optimizer\"], model_dict[\"Loss\"], model_dict[\"Loss_scalar\"]], feed_dict={X: input_data, Y: label_data})\n",
        "            # Compute average loss\n",
        "            avg_cost_list += new_cost/total_batch\n",
        "            summary_writer.add_summary(cost_scalar, epoch * total_batch + i)\n",
        "\n",
        "            i += 1\n",
        "            \n",
        "        save_path = saver.save(sess, model_path, epoch)\n",
        "         \n",
        "        # Calculate Accuracy\n",
        "        avg_accuracy_list = 0.0\n",
        "        total_batch = int(len(video_frames_5d_test)/batch)\n",
        "        i = 0\n",
        "        for start, end in zip(range(0, len(video_frames_5d_test), batch), range(batch, len(video_frames_5d_test)+1, batch)):\n",
        "            input_data, label_data = video_frames_5d_test[start:end], category_label_test_one_hot[start:end]\n",
        "            accuracy, accuracy_scalar = sess.run([model_dict[\"Accuracy\"], model_dict[\"Accuracy_scalar\"]], feed_dict={X: input_data, Y: label_data})\n",
        "            # Compute average accuracy\n",
        "            avg_accuracy_list += accuracy/total_batch\n",
        "            summary_writer.add_summary(accuracy_scalar, epoch * total_batch + i)\n",
        "            \n",
        "            i += 1\n",
        "        \n",
        "        # Printing current epoch accuracy\n",
        "        epoch_cost_accuracy = []\n",
        "        epoch_cost_accuracy.append(time_taken(start_time, time.time()))\n",
        "        # Display logs per epoch step\n",
        "        if epoch % display_step == 0:\n",
        "            print(\"Epoch:\", '%04d' % (epoch+1), \", Time: \", time_taken(start_time, time.time()))\n",
        "            a_string = \"Cost - \"\n",
        "            epoch_cost_accuracy.append(epoch+1)\n",
        "            \n",
        "            a_string += str(avg_cost_list)\n",
        "            epoch_cost_accuracy.append(str(avg_cost_list))\n",
        "            \n",
        "            a_string = a_string[0:-2]+\" --> Accuracy - \"\n",
        "            a_string += str(avg_accuracy_list)\n",
        "            epoch_cost_accuracy.append(str(avg_accuracy_list))\n",
        "            \n",
        "            print(a_string)\n",
        "        \n",
        "        # Writing current epoch data\n",
        "        with open(logs_path+db_file_name.split(\".\")[0]+\"_data.csv\", 'a') as f: # append to the file created\n",
        "            writer = csv.writer(f, lineterminator=\"\\n\")\n",
        "            writer.writerow(epoch_cost_accuracy)\n",
        "    \n",
        "    print(\"Optimization Finished!\")\n",
        "    end_time = time.time()\n",
        "    print(\"Time taken: day, hour, minutes, seconds->\", time_taken(start_time, end_time))"
      ],
      "execution_count": null,
      "outputs": [
        {
          "output_type": "stream",
          "name": "stdout",
          "text": [
            "Epoch: 0001 , Time:  00:00:02:38\n",
            "Cost - 2.97001208364963 --> Accuracy - 0.18000000119209292\n"
          ]
        }
      ]
    },
    {
      "cell_type": "code",
      "metadata": {
        "id": "yGOyY6CfFlG9"
      },
      "source": [
        ""
      ],
      "execution_count": null,
      "outputs": []
    }
  ]
}